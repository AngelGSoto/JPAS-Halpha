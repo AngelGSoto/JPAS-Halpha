{
 "cells": [
  {
   "cell_type": "code",
   "execution_count": 1,
   "id": "07a422c3-1b48-4ddf-8fc4-0a829a57c653",
   "metadata": {},
   "outputs": [],
   "source": [
    "import pyvo.dal\n",
    "from pyvo.auth import authsession, securitymethods\n",
    "import getpass\n",
    "import requests\n",
    "import pyvo"
   ]
  },
  {
   "cell_type": "code",
   "execution_count": 2,
   "id": "af27d9a7-3ee8-4d14-bf2f-096e4d2c1c27",
   "metadata": {},
   "outputs": [],
   "source": [
    "# To avoid warnings\n",
    "import warnings\n",
    "warnings.simplefilter(\"ignore\")"
   ]
  },
  {
   "cell_type": "code",
   "execution_count": 3,
   "id": "be8d810f-854e-400c-b5e6-a355a0745dbf",
   "metadata": {},
   "outputs": [],
   "source": [
    "# Url of the TAP service\n",
    "tap_url = \"https://archive.cefca.es/catalogues/vo/tap/jpas-idr202406\""
   ]
  },
  {
   "cell_type": "code",
   "execution_count": 4,
   "id": "68883455-00a6-42fe-abbc-d6a57bd7d2a1",
   "metadata": {},
   "outputs": [
    {
     "name": "stdin",
     "output_type": "stream",
     "text": [
      "Username: lgutierrez\n",
      "Password: ········\n"
     ]
    }
   ],
   "source": [
    "# Login\n",
    "user = input(\"Username:\")\n",
    "pwd = getpass.getpass(\"Password:\")\n",
    "archive_login_url = \"https://archive.cefca.es/catalogues/login\"\n",
    "login_args = {\"login\": user, \"password\": pwd,\n",
    "              \"submit\": \"Sign+In\"}\n",
    "login_header = {\"Content-type\": \"application/x-www-form-urlencoded\",\n",
    "                \"Accept\": \"text/plain\"}\n"
   ]
  },
  {
   "cell_type": "code",
   "execution_count": 5,
   "id": "9cc7b083-8ff8-44d0-8e46-6a874ecddc7b",
   "metadata": {},
   "outputs": [],
   "source": [
    "pyvo.dal.tap.s = requests.Session()\n",
    "response = pyvo.dal.tap.s.post(archive_login_url,\n",
    "                 data=login_args, headers=login_header)"
   ]
  },
  {
   "cell_type": "code",
   "execution_count": 6,
   "id": "2da5208f-9261-4924-8b77-611078de9f6f",
   "metadata": {},
   "outputs": [],
   "source": [
    "response.raise_for_status()"
   ]
  },
  {
   "cell_type": "code",
   "execution_count": 7,
   "id": "545d1d41-3b97-4d40-8e9d-870e2d236b10",
   "metadata": {},
   "outputs": [],
   "source": [
    "auth = authsession.AuthSession()\n",
    "auth.credentials.set(securitymethods.ANONYMOUS, pyvo.dal.tap.s)\n"
   ]
  },
  {
   "cell_type": "code",
   "execution_count": 8,
   "id": "dafbb3ca-6712-435b-bcd3-fedd44663ff6",
   "metadata": {},
   "outputs": [],
   "source": [
    "# Ejecutando la consulta\n",
    "service = pyvo.dal.TAPService(tap_url, session=auth)\n",
    "try:\n",
    "    resultset = service.run_sync(\"SELECT COUNT(*) as total FROM jpas.MagABDualObj WHERE MAG_ERR_APER_6_0[jpas::J0660] < 0.4 AND MAG_ERR_APER_6_0[jpas::iSDSS] < 0.4\")\n",
    "except pyvo.DALQueryError as e:\n",
    "    print(f\"Error en consulta: {e}\")"
   ]
  },
  {
   "cell_type": "code",
   "execution_count": 9,
   "id": "a1144f71-024a-4bef-9994-99fa6b7e531c",
   "metadata": {},
   "outputs": [],
   "source": [
    "# Convertir a tabla Astropy\n",
    "table = resultset.to_table()"
   ]
  },
  {
   "cell_type": "code",
   "execution_count": 10,
   "id": "cbbffba9-ec46-459d-9648-700d84754107",
   "metadata": {},
   "outputs": [
    {
     "name": "stdout",
     "output_type": "stream",
     "text": [
      "El total de objetos en el survey es: 1792103\n"
     ]
    }
   ],
   "source": [
    "# Obtener el número total de objetos\n",
    "total_objects = table[0][\"total\"]\n",
    "print(\"El total de objetos en el survey es:\", total_objects)"
   ]
  },
  {
   "cell_type": "markdown",
   "id": "64dedd1e-9707-4dba-a032-0ee38c7cf064",
   "metadata": {},
   "source": [
    "La tabla total tiene  12031905 objetos"
   ]
  },
  {
   "cell_type": "markdown",
   "id": "a00c95b9-b7fe-48c4-9230-d6c4247783a1",
   "metadata": {},
   "source": [
    "### Probemos async"
   ]
  },
  {
   "cell_type": "code",
   "execution_count": 11,
   "id": "19207f25-b3d7-48be-8d93-8e4a099d060e",
   "metadata": {},
   "outputs": [],
   "source": [
    "job = service.run_async(\"SELECT TOP 100 * FROM jpas.MagABDualObj WHERE MAG_ERR_APER_6_0[jpas::J0660] < 0.2 AND MAG_ERR_APER_6_0[jpas::iSDSS] < 0.2\")\n"
   ]
  },
  {
   "cell_type": "code",
   "execution_count": 12,
   "id": "90f28f63-2d02-407c-bcd1-27ab0b0f90b0",
   "metadata": {},
   "outputs": [
    {
     "data": {
      "text/plain": [
       "astropy.table.table.Table"
      ]
     },
     "execution_count": 12,
     "metadata": {},
     "output_type": "execute_result"
    }
   ],
   "source": [
    "# Convertir a tabla de Astropy\n",
    "table = job.to_table()\n",
    "type(table)"
   ]
  },
  {
   "cell_type": "code",
   "execution_count": 13,
   "id": "ceb378cb-6cb0-4900-9419-5d62c386e38a",
   "metadata": {},
   "outputs": [
    {
     "name": "stdout",
     "output_type": "stream",
     "text": [
      "tile_id number    alpha_j2000     ... mag_aper_cor_6_0 mag_err_aper_cor_6_0\n",
      "                      deg         ...       mag                            \n",
      "------- ------ ------------------ ... ---------------- --------------------\n",
      "   9499  43391  128.3961228741231 ... 26.756 .. 19.137      51.471 .. 0.011\n",
      "   9499  43407  128.6162184598354 ... 24.031 .. 19.685       4.258 .. 0.015\n",
      "   9499  43421 128.91236330218172 ... 22.366 .. 19.163       1.035 .. 0.009\n",
      "   9499  43453 128.76709464721046 ...   22.5 .. 19.651       1.018 .. 0.012\n",
      "   9499  43479 128.81820872008612 ...   99.0 .. 20.032        99.0 .. 0.019\n",
      "   9499  43488 128.59589211793258 ... 20.295 .. 15.116       0.125 .. 0.001\n",
      "   9499  43496   128.596269919069 ... 24.892 .. 17.607       8.478 .. 0.003\n",
      "   9499  43506 128.57579650816612 ... 21.934 .. 18.487        0.61 .. 0.006\n",
      "   9499  43516 128.35330475730598 ... 20.604 .. 18.576       0.179 .. 0.007\n",
      "    ...    ...                ... ...              ...                  ...\n",
      "   9499  45062 128.62815765822143 ... 21.601 .. 19.666       0.456 .. 0.015\n",
      "   9499  45090 128.80650337647063 ...  21.453 .. 20.07       0.387 .. 0.018\n",
      "   9499  45100 128.54489130053105 ... 25.265 .. 20.137      13.105 .. 0.022\n",
      "   9499  45123  128.9649502222669 ...   99.0 .. 19.121        99.0 .. 0.009\n",
      "   9499  45167 128.42466352306252 ...  21.62 .. 16.722       0.457 .. 0.002\n",
      "   9499  45173  128.3702781209118 ...  21.661 .. 20.35        0.473 .. 0.03\n",
      "   9499  45192 128.37457043813373 ... 22.153 .. 18.862       0.739 .. 0.009\n",
      "   9499  45194 128.54233011519855 ...   99.0 .. 18.824        99.0 .. 0.007\n",
      "   9499  45236 128.66807092422445 ... 22.192 .. 20.049       0.757 .. 0.021\n",
      "   9499  45264 128.48448611318247 ... 22.057 .. 21.154        0.68 .. 0.054\n",
      "Length = 100 rows\n"
     ]
    }
   ],
   "source": [
    "# Mostrar los primeros registros\n",
    "print(table)"
   ]
  },
  {
   "cell_type": "code",
   "execution_count": 14,
   "id": "6825bcbb-0016-45d2-9167-fddd7e758c84",
   "metadata": {},
   "outputs": [
    {
     "name": "stdout",
     "output_type": "stream",
     "text": [
      "tile_id\n",
      "number\n",
      "alpha_j2000\n",
      "delta_j2000\n",
      "hpix11\n",
      "x_image\n",
      "y_image\n",
      "r_eff\n",
      "fwhm_world\n",
      "a_world\n",
      "b_world\n",
      "theta_j2000\n",
      "isoarea_world\n",
      "relerra_world\n",
      "relerrb_world\n",
      "errtheta_j2000\n",
      "class_star\n",
      "mag_auto\n",
      "mag_iso\n",
      "mag_petro\n",
      "mu_max\n",
      "petro_radius\n",
      "kron_radius\n",
      "mag_aper_0_8\n",
      "mag_aper_1_0\n",
      "mag_aper_1_2\n",
      "mag_aper_1_5\n",
      "mag_aper_2_0\n",
      "mag_aper_3_0\n",
      "mag_aper_4_0\n",
      "mag_aper_6_0\n",
      "mag_err_auto\n",
      "mag_err_iso\n",
      "mag_err_petro\n",
      "mag_err_aper_0_8\n",
      "mag_err_aper_1_0\n",
      "mag_err_aper_1_2\n",
      "mag_err_aper_1_5\n",
      "mag_err_aper_2_0\n",
      "mag_err_aper_3_0\n",
      "mag_err_aper_4_0\n",
      "mag_err_aper_6_0\n",
      "flags\n",
      "norm_wmap_val\n",
      "mask_flags\n",
      "single_detect\n",
      "mag_aper_cor_3_0\n",
      "mag_err_aper_cor_3_0\n",
      "mag_aper_cor_6_0\n",
      "mag_err_aper_cor_6_0\n"
     ]
    }
   ],
   "source": [
    "for i in table.columns:\n",
    "    print(i)"
   ]
  },
  {
   "cell_type": "markdown",
   "id": "a55b7162-a39a-4f5c-ad41-f7dac109726d",
   "metadata": {},
   "source": [
    "# Verlos filtros"
   ]
  },
  {
   "cell_type": "code",
   "execution_count": 50,
   "id": "f65abf0d-5a9e-4d39-ae7d-1608149af00f",
   "metadata": {},
   "outputs": [
    {
     "name": "stdout",
     "output_type": "stream",
     "text": [
      "filter_id  name wavelength width     kx     color_representation\n",
      "                    AA       nm                                 \n",
      "--------- ----- ---------- ----- ---------- --------------------\n",
      "        1 uJAVA       3497   509 4.91599989              #CC00FF\n",
      "        2 J0378       3782   157 4.56699991              #9900FF\n",
      "        3 J0390       3904   150 4.44199991              #6F008C\n",
      "        4 J0400       3996   148 4.34100008              #6900B0\n",
      "        5 J0410       4110   144 4.24100018              #4300DE\n",
      "        6 J0420       4203   147 4.14300013              #0000FF\n",
      "        7 J0430       4303   148 4.04799986              #0069FF\n",
      "        8 J0440       4403   152 3.95300007              #00B8FF\n",
      "        9 J0450       4503   150 3.86100006              #00FFFF\n",
      "      ...   ...        ...   ...        ...                  ...\n",
      "       48 J0840       8429   148 1.59500003              #97003B\n",
      "       49 J0850       8523   146 1.56099999              #910034\n",
      "       50 J0860       8620   148      1.528              #8B002D\n",
      "       51 J0870       8716   146      1.495              #860026\n",
      "       52 J0880       8810   146 1.46200001              #800020\n",
      "       53 J0890       8912   150 1.43099999              #7A0019\n",
      "       54 J0900       9000   154 1.39999998              #750014\n",
      "       55 J0910       9107   152       1.37              #6F000E\n",
      "       56 J1007       9316   635 1.11899996              #610001\n",
      "       57 iSDSS       7725  1250 1.82500005              #990033\n",
      "Length = 57 rows\n"
     ]
    }
   ],
   "source": [
    "resultset1 = service.run_sync(\"SELECT * FROM  jpas.Filter\")  \n",
    "print(resultset1.to_table())\n"
   ]
  },
  {
   "cell_type": "code",
   "execution_count": 51,
   "id": "00b99326-ec49-4c6d-a78f-95f8f84dc494",
   "metadata": {},
   "outputs": [],
   "source": [
    "filters = resultset1.to_table()"
   ]
  },
  {
   "cell_type": "code",
   "execution_count": 53,
   "id": "083e5fd7-595e-41d0-8988-4015cf18d42b",
   "metadata": {},
   "outputs": [
    {
     "name": "stdout",
     "output_type": "stream",
     "text": [
      "uJAVA\n",
      "J0378\n",
      "J0390\n",
      "J0400\n",
      "J0410\n",
      "J0420\n",
      "J0430\n",
      "J0440\n",
      "J0450\n",
      "J0460\n",
      "J0470\n",
      "J0480\n",
      "J0490\n",
      "J0500\n",
      "J0510\n",
      "J0520\n",
      "J0530\n",
      "J0540\n",
      "J0550\n",
      "J0560\n",
      "J0570\n",
      "J0580\n",
      "J0590\n",
      "J0600\n",
      "J0610\n",
      "J0620\n",
      "J0630\n",
      "J0640\n",
      "J0650\n",
      "J0660\n",
      "J0670\n",
      "J0680\n",
      "J0690\n",
      "J0700\n",
      "J0710\n",
      "J0720\n",
      "J0730\n",
      "J0740\n",
      "J0750\n",
      "J0760\n",
      "J0770\n",
      "J0780\n",
      "J0790\n",
      "J0800\n",
      "J0810\n",
      "J0820\n",
      "J0830\n",
      "J0840\n",
      "J0850\n",
      "J0860\n",
      "J0870\n",
      "J0880\n",
      "J0890\n",
      "J0900\n",
      "J0910\n",
      "J1007\n",
      "iSDSS\n"
     ]
    }
   ],
   "source": [
    "for i in filters:\n",
    "    print(i[\"name\"])"
   ]
  },
  {
   "cell_type": "code",
   "execution_count": null,
   "id": "15c01b23-3e98-446a-8c38-0e46ad9ae9ae",
   "metadata": {},
   "outputs": [],
   "source": []
  },
  {
   "cell_type": "markdown",
   "id": "c6010cee-706c-436f-9b06-cf0012dd4b98",
   "metadata": {},
   "source": [
    "## Download the entire catalog"
   ]
  },
  {
   "cell_type": "code",
   "execution_count": null,
   "id": "bad95106-b4fa-40b3-b6b3-608b884f33c2",
   "metadata": {},
   "outputs": [],
   "source": []
  },
  {
   "cell_type": "code",
   "execution_count": null,
   "id": "75790641-ba9c-4f5b-9013-eeadd5ff7e58",
   "metadata": {},
   "outputs": [],
   "source": []
  },
  {
   "cell_type": "code",
   "execution_count": 43,
   "id": "09a930ea-da59-4c3b-b8db-a528f30d86d7",
   "metadata": {},
   "outputs": [],
   "source": [
    "query = \"\"\"\n",
    "SELECT TOP 10\n",
    "    tile_id,\n",
    "    number,\n",
    "    alpha_j2000,\n",
    "    delta_j2000,\n",
    "    x_image,\n",
    "    y_image,\n",
    "    fwhm_world,\n",
    "    isoarea_world,\n",
    "    mu_max,\n",
    "    petro_radius,\n",
    "    kron_radius,\n",
    "    mag_aper_cor_6_0[jpas::J0430] AS mag_J0430,  \n",
    "    mag_err_aper_cor_6_0[jpas::J0430] AS err_J0430_cor,\n",
    "    mag_aper_cor_6_0[jpas::J0450] AS mag_J0450,  \n",
    "    mag_err_aper_cor_6_0[jpas::J0450] AS err_J0450_cor,\n",
    "    mag_aper_cor_6_0[jpas::J0515] AS mag_J0515,  \n",
    "    mag_err_aper_cor_6_0[jpas::J0515] AS err_J0515_cor,\n",
    "    mag_aper_cor_6_0[jpas::J0660] AS mag_J0660,  \n",
    "    mag_err_aper_cor_6_0[jpas::J0660] AS err_J0660_cor,\n",
    "    mag_aper_6_0[jpas::iSDSS] AS mag_i,\n",
    "    mag_aper_cor_6_0[jpas::iSDSS] AS mag_i_cor,\n",
    "    mag_err_aper_6_0[jpas::iSDSS] AS err_i,\n",
    "    mag_err_aper_cor_6_0[jpas::iSDSS] AS err_i_cor,\n",
    "    mag_aper_6_0,          \n",
    "    mag_aper_cor_6_0,      \n",
    "    mag_err_aper_6_0,      \n",
    "    mag_err_aper_cor_6_0,  \n",
    "    class_star,\n",
    "    flags[jpas::J0660] AS flags_J0660,  \n",
    "    flags[jpas::iSDSS] AS flags_iSDSS   \n",
    "FROM jpas.MagABDualObj\n",
    "WHERE\n",
    "    mag_err_aper_6_0[jpas::J0660] < 0.4     \n",
    "    AND mag_err_aper_6_0[jpas::iSDSS] < 0.4 \n",
    "    AND mask_flags[jpas::J0660] = 0        \n",
    "    AND mask_flags[jpas::iSDSS] = 0         \n",
    "    AND flags[jpas::J0660] <= 3            \n",
    "    AND flags[jpas::iSDSS] <= 3            \n",
    "    AND mag_aper_cor_6_0[jpas::iSDSS] BETWEEN 13 AND 23  \n",
    "\"\"\""
   ]
  },
  {
   "cell_type": "code",
   "execution_count": 44,
   "id": "b5f1050f-0fb7-4f43-88c4-5591fcf87be5",
   "metadata": {},
   "outputs": [
    {
     "ename": "DALQueryError",
     "evalue": "Query Error: Unknown Enumeration Value: J0515 (at 415)",
     "output_type": "error",
     "traceback": [
      "\u001b[0;31m---------------------------------------------------------------------------\u001b[0m",
      "\u001b[0;31mDALQueryError\u001b[0m                             Traceback (most recent call last)",
      "Cell \u001b[0;32mIn[44], line 1\u001b[0m\n\u001b[0;32m----> 1\u001b[0m main_data \u001b[38;5;241m=\u001b[39m service\u001b[38;5;241m.\u001b[39mrun_async(query)\u001b[38;5;241m.\u001b[39mto_table()\n",
      "File \u001b[0;32m~/.conda/envs/luis-env/lib/python3.12/site-packages/pyvo/dal/tap.py:324\u001b[0m, in \u001b[0;36mTAPService.run_async\u001b[0;34m(self, query, language, maxrec, uploads, **keywords)\u001b[0m\n\u001b[1;32m    320\u001b[0m job \u001b[38;5;241m=\u001b[39m AsyncTAPJob\u001b[38;5;241m.\u001b[39mcreate(\n\u001b[1;32m    321\u001b[0m     \u001b[38;5;28mself\u001b[39m\u001b[38;5;241m.\u001b[39mbaseurl, query, language\u001b[38;5;241m=\u001b[39mlanguage, maxrec\u001b[38;5;241m=\u001b[39mmaxrec, uploads\u001b[38;5;241m=\u001b[39muploads,\n\u001b[1;32m    322\u001b[0m     session\u001b[38;5;241m=\u001b[39m\u001b[38;5;28mself\u001b[39m\u001b[38;5;241m.\u001b[39m_session, \u001b[38;5;241m*\u001b[39m\u001b[38;5;241m*\u001b[39mkeywords)\n\u001b[1;32m    323\u001b[0m job \u001b[38;5;241m=\u001b[39m job\u001b[38;5;241m.\u001b[39mrun()\u001b[38;5;241m.\u001b[39mwait()\n\u001b[0;32m--> 324\u001b[0m job\u001b[38;5;241m.\u001b[39mraise_if_error()\n\u001b[1;32m    325\u001b[0m result \u001b[38;5;241m=\u001b[39m job\u001b[38;5;241m.\u001b[39mfetch_result()\n\u001b[1;32m    326\u001b[0m job\u001b[38;5;241m.\u001b[39mdelete()\n",
      "File \u001b[0;32m~/.conda/envs/luis-env/lib/python3.12/site-packages/pyvo/dal/tap.py:992\u001b[0m, in \u001b[0;36mAsyncTAPJob.raise_if_error\u001b[0;34m(self)\u001b[0m\n\u001b[1;32m    990\u001b[0m     msg \u001b[38;5;241m=\u001b[39m \u001b[38;5;28mself\u001b[39m\u001b[38;5;241m.\u001b[39m_job\u001b[38;5;241m.\u001b[39merrorsummary\u001b[38;5;241m.\u001b[39mmessage\u001b[38;5;241m.\u001b[39mcontent\n\u001b[1;32m    991\u001b[0m msg \u001b[38;5;241m=\u001b[39m msg \u001b[38;5;129;01mor\u001b[39;00m \u001b[38;5;124m\"\u001b[39m\u001b[38;5;124m<No useful error from server>\u001b[39m\u001b[38;5;124m\"\u001b[39m\n\u001b[0;32m--> 992\u001b[0m \u001b[38;5;28;01mraise\u001b[39;00m DALQueryError(\u001b[38;5;124m\"\u001b[39m\u001b[38;5;124mQuery Error: \u001b[39m\u001b[38;5;124m\"\u001b[39m \u001b[38;5;241m+\u001b[39m msg, \u001b[38;5;28mself\u001b[39m\u001b[38;5;241m.\u001b[39murl)\n",
      "\u001b[0;31mDALQueryError\u001b[0m: Query Error: Unknown Enumeration Value: J0515 (at 415)"
     ]
    }
   ],
   "source": [
    "main_data = service.run_async(query).to_table()\n"
   ]
  },
  {
   "cell_type": "code",
   "execution_count": null,
   "id": "a0492215-3ab7-4572-8acf-b9582dcda1d2",
   "metadata": {},
   "outputs": [],
   "source": [
    "main_data"
   ]
  },
  {
   "cell_type": "code",
   "execution_count": null,
   "id": "6dad977d-b107-4122-a4a4-e20b140a240d",
   "metadata": {},
   "outputs": [],
   "source": []
  }
 ],
 "metadata": {
  "kernelspec": {
   "display_name": "Python 3 (ipykernel)",
   "language": "python",
   "name": "python3"
  },
  "language_info": {
   "codemirror_mode": {
    "name": "ipython",
    "version": 3
   },
   "file_extension": ".py",
   "mimetype": "text/x-python",
   "name": "python",
   "nbconvert_exporter": "python",
   "pygments_lexer": "ipython3",
   "version": "3.12.4"
  }
 },
 "nbformat": 4,
 "nbformat_minor": 5
}
