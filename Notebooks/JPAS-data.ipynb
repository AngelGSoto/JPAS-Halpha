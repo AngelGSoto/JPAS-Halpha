{
 "cells": [
  {
   "cell_type": "code",
   "execution_count": 1,
   "id": "07a422c3-1b48-4ddf-8fc4-0a829a57c653",
   "metadata": {},
   "outputs": [],
   "source": [
    "import pyvo.dal\n",
    "from pyvo.auth import authsession, securitymethods\n",
    "import getpass\n",
    "import requests\n",
    "import pyvo"
   ]
  },
  {
   "cell_type": "code",
   "execution_count": 2,
   "id": "af27d9a7-3ee8-4d14-bf2f-096e4d2c1c27",
   "metadata": {},
   "outputs": [],
   "source": [
    "# To avoid warnings\n",
    "import warnings\n",
    "warnings.simplefilter(\"ignore\")"
   ]
  },
  {
   "cell_type": "code",
   "execution_count": 3,
   "id": "be8d810f-854e-400c-b5e6-a355a0745dbf",
   "metadata": {},
   "outputs": [],
   "source": [
    "# Url of the TAP service\n",
    "tap_url = \"https://archive.cefca.es/catalogues/vo/tap/jpas-idr202406\""
   ]
  },
  {
   "cell_type": "code",
   "execution_count": 4,
   "id": "68883455-00a6-42fe-abbc-d6a57bd7d2a1",
   "metadata": {},
   "outputs": [
    {
     "name": "stdout",
     "output_type": "stream",
     "text": [
      "Username:lgutierrez\n",
      "Password:········\n"
     ]
    }
   ],
   "source": [
    "# Login\n",
    "user = input(\"Username:\")\n",
    "pwd = getpass.getpass(\"Password:\")\n",
    "archive_login_url = \"https://archive.cefca.es/catalogues/login\"\n",
    "login_args = {\"login\": user, \"password\": pwd,\n",
    "              \"submit\": \"Sign+In\"}\n",
    "login_header = {\"Content-type\": \"application/x-www-form-urlencoded\",\n",
    "                \"Accept\": \"text/plain\"}\n"
   ]
  },
  {
   "cell_type": "code",
   "execution_count": 5,
   "id": "9cc7b083-8ff8-44d0-8e46-6a874ecddc7b",
   "metadata": {},
   "outputs": [],
   "source": [
    "pyvo.dal.tap.s = requests.Session()\n",
    "response = pyvo.dal.tap.s.post(archive_login_url,\n",
    "                 data=login_args, headers=login_header)"
   ]
  },
  {
   "cell_type": "code",
   "execution_count": 6,
   "id": "2da5208f-9261-4924-8b77-611078de9f6f",
   "metadata": {},
   "outputs": [],
   "source": [
    "response.raise_for_status()"
   ]
  },
  {
   "cell_type": "code",
   "execution_count": 7,
   "id": "545d1d41-3b97-4d40-8e9d-870e2d236b10",
   "metadata": {},
   "outputs": [],
   "source": [
    "auth = authsession.AuthSession()\n",
    "auth.credentials.set(securitymethods.ANONYMOUS, pyvo.dal.tap.s)\n"
   ]
  },
  {
   "cell_type": "code",
   "execution_count": 8,
   "id": "dafbb3ca-6712-435b-bcd3-fedd44663ff6",
   "metadata": {},
   "outputs": [],
   "source": [
    "# Ejecutando la consulta\n",
    "service = pyvo.dal.TAPService(tap_url, session=auth)\n",
    "try:\n",
    "    resultset = service.run_sync(\"SELECT COUNT(*) as total FROM jpas.MagABDualObj WHERE MAG_ERR_APER_6_0[jpas::J0660] < 0.4 AND MAG_ERR_APER_6_0[jpas::iSDSS] < 0.4\")\n",
    "except pyvo.DALQueryError as e:\n",
    "    print(f\"Error en consulta: {e}\")"
   ]
  },
  {
   "cell_type": "code",
   "execution_count": 9,
   "id": "a1144f71-024a-4bef-9994-99fa6b7e531c",
   "metadata": {},
   "outputs": [],
   "source": [
    "# Convertir a tabla Astropy\n",
    "table = resultset.to_table()"
   ]
  },
  {
   "cell_type": "code",
   "execution_count": 10,
   "id": "cbbffba9-ec46-459d-9648-700d84754107",
   "metadata": {},
   "outputs": [
    {
     "name": "stdout",
     "output_type": "stream",
     "text": [
      "El total de objetos en el survey es: 1792103\n"
     ]
    }
   ],
   "source": [
    "# Obtener el número total de objetos\n",
    "total_objects = table[0][\"total\"]\n",
    "print(\"El total de objetos en el survey es:\", total_objects)"
   ]
  },
  {
   "cell_type": "markdown",
   "id": "64dedd1e-9707-4dba-a032-0ee38c7cf064",
   "metadata": {},
   "source": [
    "La tabla total tiene  12031905 objetos"
   ]
  },
  {
   "cell_type": "markdown",
   "id": "a00c95b9-b7fe-48c4-9230-d6c4247783a1",
   "metadata": {},
   "source": [
    "### Probemos async"
   ]
  },
  {
   "cell_type": "code",
   "execution_count": 11,
   "id": "19207f25-b3d7-48be-8d93-8e4a099d060e",
   "metadata": {},
   "outputs": [],
   "source": [
    "job = service.run_async(\"SELECT TOP 100 * FROM jpas.MagABDualObj WHERE MAG_ERR_APER_6_0[jpas::J0660] < 0.2 AND MAG_ERR_APER_6_0[jpas::iSDSS] < 0.2\")\n"
   ]
  },
  {
   "cell_type": "code",
   "execution_count": 12,
   "id": "90f28f63-2d02-407c-bcd1-27ab0b0f90b0",
   "metadata": {},
   "outputs": [
    {
     "data": {
      "text/plain": [
       "astropy.table.table.Table"
      ]
     },
     "execution_count": 12,
     "metadata": {},
     "output_type": "execute_result"
    }
   ],
   "source": [
    "# Convertir a tabla de Astropy\n",
    "table = job.to_table()\n",
    "type(table)"
   ]
  },
  {
   "cell_type": "code",
   "execution_count": 13,
   "id": "ceb378cb-6cb0-4900-9419-5d62c386e38a",
   "metadata": {},
   "outputs": [
    {
     "name": "stdout",
     "output_type": "stream",
     "text": [
      "tile_id number    alpha_j2000     ... mag_aper_cor_6_0 mag_err_aper_cor_6_0\n",
      "                      deg         ...       mag                            \n",
      "------- ------ ------------------ ... ---------------- --------------------\n",
      "   8955  10240 214.63259794839854 ... 22.708 .. 18.236       1.156 .. 0.005\n",
      "   8955  10255 215.51029745851386 ...   99.0 .. 19.771        99.0 .. 0.016\n",
      "   8955  10275 214.22434194821676 ...    99.0 .. 19.79        99.0 .. 0.016\n",
      "   8955  10304   214.494161054305 ... 22.826 .. 20.025       1.159 .. 0.025\n",
      "   8955  10305 214.58445157755116 ... 23.482 .. 20.748        2.36 .. 0.047\n",
      "   8955  10317   215.515902883466 ... 22.098 .. 17.695       0.687 .. 0.003\n",
      "   8955  10321 214.21229006429112 ... 22.139 .. 20.301       0.693 .. 0.026\n",
      "   8955  10325 214.41684483508638 ...  22.99 .. 20.599       1.531 .. 0.033\n",
      "   8955  10326  214.4390753561181 ... 21.917 .. 19.083       0.566 .. 0.009\n",
      "    ...    ...                ... ...              ...                  ...\n",
      "   8955  11396 215.19591134427344 ...  22.37 .. 19.955       0.868 .. 0.019\n",
      "   8955  11420 215.21854272739085 ...  20.802 .. 19.13       0.205 .. 0.009\n",
      "   8955  11434 215.10611861713463 ... 21.591 .. 19.069       0.423 .. 0.008\n",
      "   8955  11447 214.11552542543743 ...   99.0 .. 19.435        99.0 .. 0.012\n",
      "   8955  11466 214.41878318217215 ... 21.868 .. 19.778       0.546 .. 0.016\n",
      "   8955  11469  215.2875507817114 ...   99.0 .. 20.307        99.0 .. 0.026\n",
      "   8955  11505 213.98309256660963 ...  21.805 .. 19.27       0.406 .. 0.009\n",
      "   8955  11529 214.45040727076548 ...   23.87 .. 20.33       3.429 .. 0.026\n",
      "   8955  11536 214.12212995307164 ... 21.813 .. 20.845       0.415 .. 0.042\n",
      "   8955  11545 215.48020923843143 ... 21.548 .. 18.749       0.417 .. 0.007\n",
      "Length = 100 rows\n"
     ]
    }
   ],
   "source": [
    "# Mostrar los primeros registros\n",
    "print(table)"
   ]
  },
  {
   "cell_type": "code",
   "execution_count": 14,
   "id": "6825bcbb-0016-45d2-9167-fddd7e758c84",
   "metadata": {},
   "outputs": [
    {
     "name": "stdout",
     "output_type": "stream",
     "text": [
      "tile_id\n",
      "number\n",
      "alpha_j2000\n",
      "delta_j2000\n",
      "hpix11\n",
      "x_image\n",
      "y_image\n",
      "r_eff\n",
      "fwhm_world\n",
      "a_world\n",
      "b_world\n",
      "theta_j2000\n",
      "isoarea_world\n",
      "relerra_world\n",
      "relerrb_world\n",
      "errtheta_j2000\n",
      "class_star\n",
      "mag_auto\n",
      "mag_iso\n",
      "mag_petro\n",
      "mu_max\n",
      "petro_radius\n",
      "kron_radius\n",
      "mag_aper_0_8\n",
      "mag_aper_1_0\n",
      "mag_aper_1_2\n",
      "mag_aper_1_5\n",
      "mag_aper_2_0\n",
      "mag_aper_3_0\n",
      "mag_aper_4_0\n",
      "mag_aper_6_0\n",
      "mag_err_auto\n",
      "mag_err_iso\n",
      "mag_err_petro\n",
      "mag_err_aper_0_8\n",
      "mag_err_aper_1_0\n",
      "mag_err_aper_1_2\n",
      "mag_err_aper_1_5\n",
      "mag_err_aper_2_0\n",
      "mag_err_aper_3_0\n",
      "mag_err_aper_4_0\n",
      "mag_err_aper_6_0\n",
      "flags\n",
      "norm_wmap_val\n",
      "mask_flags\n",
      "single_detect\n",
      "mag_aper_cor_3_0\n",
      "mag_err_aper_cor_3_0\n",
      "mag_aper_cor_6_0\n",
      "mag_err_aper_cor_6_0\n"
     ]
    }
   ],
   "source": [
    "for i in table.columns:\n",
    "    print(i)"
   ]
  },
  {
   "cell_type": "markdown",
   "id": "a55b7162-a39a-4f5c-ad41-f7dac109726d",
   "metadata": {},
   "source": [
    "# Verlos filtros"
   ]
  },
  {
   "cell_type": "code",
   "execution_count": 15,
   "id": "f65abf0d-5a9e-4d39-ae7d-1608149af00f",
   "metadata": {},
   "outputs": [
    {
     "name": "stdout",
     "output_type": "stream",
     "text": [
      "filter_id  name wavelength width     kx     color_representation\n",
      "                    AA       nm                                 \n",
      "--------- ----- ---------- ----- ---------- --------------------\n",
      "        1 uJAVA       3497   509 4.91599989              #CC00FF\n",
      "        2 J0378       3782   157 4.56699991              #9900FF\n",
      "        3 J0390       3904   150 4.44199991              #6F008C\n",
      "        4 J0400       3996   148 4.34100008              #6900B0\n",
      "        5 J0410       4110   144 4.24100018              #4300DE\n",
      "        6 J0420       4203   147 4.14300013              #0000FF\n",
      "        7 J0430       4303   148 4.04799986              #0069FF\n",
      "        8 J0440       4403   152 3.95300007              #00B8FF\n",
      "        9 J0450       4503   150 3.86100006              #00FFFF\n",
      "      ...   ...        ...   ...        ...                  ...\n",
      "       48 J0840       8429   148 1.59500003              #97003B\n",
      "       49 J0850       8523   146 1.56099999              #910034\n",
      "       50 J0860       8620   148      1.528              #8B002D\n",
      "       51 J0870       8716   146      1.495              #860026\n",
      "       52 J0880       8810   146 1.46200001              #800020\n",
      "       53 J0890       8912   150 1.43099999              #7A0019\n",
      "       54 J0900       9000   154 1.39999998              #750014\n",
      "       55 J0910       9107   152       1.37              #6F000E\n",
      "       56 J1007       9316   635 1.11899996              #610001\n",
      "       57 iSDSS       7725  1250 1.82500005              #990033\n",
      "Length = 57 rows\n"
     ]
    }
   ],
   "source": [
    "resultset1 = service.run_sync(\"SELECT * FROM  jpas.Filter\")  \n",
    "print(resultset1.to_table())\n"
   ]
  },
  {
   "cell_type": "code",
   "execution_count": 16,
   "id": "00b99326-ec49-4c6d-a78f-95f8f84dc494",
   "metadata": {},
   "outputs": [],
   "source": [
    "filters = resultset1.to_table()"
   ]
  },
  {
   "cell_type": "code",
   "execution_count": 17,
   "id": "083e5fd7-595e-41d0-8988-4015cf18d42b",
   "metadata": {},
   "outputs": [
    {
     "name": "stdout",
     "output_type": "stream",
     "text": [
      "uJAVA\n",
      "J0378\n",
      "J0390\n",
      "J0400\n",
      "J0410\n",
      "J0420\n",
      "J0430\n",
      "J0440\n",
      "J0450\n",
      "J0460\n",
      "J0470\n",
      "J0480\n",
      "J0490\n",
      "J0500\n",
      "J0510\n",
      "J0520\n",
      "J0530\n",
      "J0540\n",
      "J0550\n",
      "J0560\n",
      "J0570\n",
      "J0580\n",
      "J0590\n",
      "J0600\n",
      "J0610\n",
      "J0620\n",
      "J0630\n",
      "J0640\n",
      "J0650\n",
      "J0660\n",
      "J0670\n",
      "J0680\n",
      "J0690\n",
      "J0700\n",
      "J0710\n",
      "J0720\n",
      "J0730\n",
      "J0740\n",
      "J0750\n",
      "J0760\n",
      "J0770\n",
      "J0780\n",
      "J0790\n",
      "J0800\n",
      "J0810\n",
      "J0820\n",
      "J0830\n",
      "J0840\n",
      "J0850\n",
      "J0860\n",
      "J0870\n",
      "J0880\n",
      "J0890\n",
      "J0900\n",
      "J0910\n",
      "J1007\n",
      "iSDSS\n"
     ]
    }
   ],
   "source": [
    "for i in filters:\n",
    "    print(i[\"name\"])"
   ]
  },
  {
   "cell_type": "code",
   "execution_count": null,
   "id": "15c01b23-3e98-446a-8c38-0e46ad9ae9ae",
   "metadata": {},
   "outputs": [],
   "source": []
  },
  {
   "cell_type": "markdown",
   "id": "c6010cee-706c-436f-9b06-cf0012dd4b98",
   "metadata": {},
   "source": [
    "## Download the entire catalog"
   ]
  },
  {
   "cell_type": "code",
   "execution_count": null,
   "id": "bad95106-b4fa-40b3-b6b3-608b884f33c2",
   "metadata": {},
   "outputs": [],
   "source": []
  },
  {
   "cell_type": "code",
   "execution_count": null,
   "id": "75790641-ba9c-4f5b-9013-eeadd5ff7e58",
   "metadata": {},
   "outputs": [],
   "source": []
  },
  {
   "cell_type": "code",
   "execution_count": 61,
   "id": "09a930ea-da59-4c3b-b8db-a528f30d86d7",
   "metadata": {},
   "outputs": [],
   "source": [
    "query = \"\"\"\n",
    "SELECT TOP 1000\n",
    "    NUMBER,\n",
    "    alpha_j2000,\n",
    "    delta_j2000,\n",
    "    tile_id,\n",
    "    mag_aper_6_0[jpas::iSDSS] AS mag_iSDSS,      \n",
    "    mag_aper_cor_6_0[jpas::iSDSS] AS mag_iSDSS_cor,  \n",
    "    mag_err_aper_6_0[jpas::iSDSS] AS err_iSDSS,      \n",
    "    mag_err_aper_cor_6_0[jpas::iSDSS] AS err_iSDSS_cor,\n",
    "    mag_aper_6_0,          \n",
    "    mag_aper_cor_6_0,      \n",
    "    mag_err_aper_6_0,      \n",
    "    mag_err_aper_cor_6_0,  \n",
    "    class_star,\n",
    "    flags,\n",
    "    mask_flags\n",
    "FROM \n",
    "    jpas.MagABDualObj \n",
    "WHERE \n",
    "    mag_err_aper_6_0[jpas::J0660] < 0.4 \n",
    "    AND mag_err_aper_6_0[jpas::iSDSS] < 0.4\n",
    "    AND mask_flags[jpas::J0660] = 0 \n",
    "    AND mask_flags[jpas::iSDSS] = 0 \n",
    "    AND flags[jpas::J0660] <= 3\n",
    "    AND flags[jpas::iSDSS] <= 3\n",
    "\"\"\""
   ]
  },
  {
   "cell_type": "code",
   "execution_count": 62,
   "id": "b5f1050f-0fb7-4f43-88c4-5591fcf87be5",
   "metadata": {},
   "outputs": [],
   "source": [
    "main_data = service.run_async(query).to_table()\n"
   ]
  },
  {
   "cell_type": "code",
   "execution_count": 63,
   "id": "a0492215-3ab7-4572-8acf-b9582dcda1d2",
   "metadata": {},
   "outputs": [
    {
     "data": {
      "text/html": [
       "<div><i>Table length=1000</i>\n",
       "<table id=\"table140396499253728\" class=\"table-striped table-bordered table-condensed\">\n",
       "<thead><tr><th>number</th><th>alpha_j2000</th><th>delta_j2000</th><th>tile_id</th><th>mag_isdss</th><th>mag_isdss_cor</th><th>err_isdss</th><th>err_isdss_cor</th><th>mag_aper_6_0</th><th>mag_aper_cor_6_0</th><th>mag_err_aper_6_0</th><th>mag_err_aper_cor_6_0</th><th>class_star</th><th>flags</th><th>mask_flags</th></tr></thead>\n",
       "<thead><tr><th></th><th>deg</th><th>deg</th><th></th><th></th><th></th><th></th><th></th><th>mag</th><th>mag</th><th></th><th></th><th></th><th></th><th></th></tr></thead>\n",
       "<thead><tr><th>int32</th><th>float64</th><th>float64</th><th>int32</th><th>float32</th><th>float32</th><th>float32</th><th>float32</th><th>float32[57]</th><th>float32[57]</th><th>float32[57]</th><th>float32[57]</th><th>float32</th><th>int32[57]</th><th>int32[57]</th></tr></thead>\n",
       "<tr><td>25130</td><td>338.6335978134234</td><td>22.418378321157284</td><td>8838</td><td>19.23475</td><td>19.180511</td><td>0.009650288</td><td>0.009650288</td><td>99.0 .. 19.235</td><td>99.0 .. 19.181</td><td>99.0 .. 0.01</td><td>99.0 .. 0.01</td><td>1.0</td><td>0 .. 0</td><td>0 .. 0</td></tr>\n",
       "<tr><td>25131</td><td>338.6879789986762</td><td>22.416937200620136</td><td>8838</td><td>15.732048</td><td>15.677071</td><td>0.0010214603</td><td>0.0010214603</td><td>17.587 .. 15.732</td><td>17.453 .. 15.677</td><td>0.011 .. 0.001</td><td>0.011 .. 0.001</td><td>0.999</td><td>0 .. 0</td><td>0 .. 0</td></tr>\n",
       "<tr><td>25136</td><td>339.4323904016746</td><td>22.418424930737444</td><td>8838</td><td>19.506378</td><td>19.450806</td><td>0.011075052</td><td>0.011075052</td><td>22.735 .. 19.506</td><td>22.572 .. 19.451</td><td>0.969 .. 0.011</td><td>0.969 .. 0.011</td><td>0.03</td><td>0 .. 0</td><td>0 .. 0</td></tr>\n",
       "<tr><td>25138</td><td>339.2173259076366</td><td>22.41882242514427</td><td>8838</td><td>20.312582</td><td>20.260983</td><td>0.021470856</td><td>0.021470856</td><td>99.0 .. 20.313</td><td>99.0 .. 20.261</td><td>99.0 .. 0.021</td><td>99.0 .. 0.021</td><td>0.962</td><td>0 .. 0</td><td>0 .. 0</td></tr>\n",
       "<tr><td>25140</td><td>339.34243761597725</td><td>22.418529517107938</td><td>8838</td><td>19.751074</td><td>19.696915</td><td>0.014181368</td><td>0.014181368</td><td>23.803 .. 19.751</td><td>23.652 .. 19.697</td><td>2.63 .. 0.014</td><td>2.63 .. 0.014</td><td>0.812</td><td>0 .. 0</td><td>0 .. 0</td></tr>\n",
       "<tr><td>25143</td><td>339.47908613005967</td><td>22.417901916935936</td><td>8838</td><td>18.27458</td><td>18.219196</td><td>0.004218377</td><td>0.004218377</td><td>99.0 .. 18.275</td><td>99.0 .. 18.219</td><td>99.0 .. 0.004</td><td>99.0 .. 0.004</td><td>0.901</td><td>0 .. 0</td><td>0 .. 0</td></tr>\n",
       "<tr><td>25144</td><td>339.5001273487729</td><td>22.418304206356023</td><td>8838</td><td>19.795458</td><td>19.743582</td><td>0.013659507</td><td>0.013659507</td><td>22.666 .. 19.795</td><td>22.503 .. 19.744</td><td>0.914 .. 0.014</td><td>0.914 .. 0.014</td><td>0.904</td><td>0 .. 0</td><td>0 .. 0</td></tr>\n",
       "<tr><td>25147</td><td>339.096093615288</td><td>22.418972597136975</td><td>8838</td><td>21.007702</td><td>20.957994</td><td>0.040489793</td><td>0.040489793</td><td>23.1 .. 21.008</td><td>22.95 .. 20.958</td><td>1.105 .. 0.04</td><td>1.105 .. 0.04</td><td>0.976</td><td>0 .. 0</td><td>0 .. 0</td></tr>\n",
       "<tr><td>25149</td><td>339.24453778223153</td><td>22.418611664729866</td><td>8838</td><td>20.363087</td><td>20.30952</td><td>0.020311166</td><td>0.020311166</td><td>22.632 .. 20.363</td><td>22.481 .. 20.31</td><td>0.888 .. 0.02</td><td>0.888 .. 0.02</td><td>0.0</td><td>0 .. 0</td><td>0 .. 0</td></tr>\n",
       "<tr><td>...</td><td>...</td><td>...</td><td>...</td><td>...</td><td>...</td><td>...</td><td>...</td><td>...</td><td>...</td><td>...</td><td>...</td><td>...</td><td>...</td><td>...</td></tr>\n",
       "<tr><td>28584</td><td>339.4380207377115</td><td>22.354249382976406</td><td>8838</td><td>20.268309</td><td>20.210287</td><td>0.024419786</td><td>0.024419786</td><td>22.167 .. 20.268</td><td>22.004 .. 20.21</td><td>0.575 .. 0.024</td><td>0.575 .. 0.024</td><td>0.855</td><td>0 .. 0</td><td>0 .. 0</td></tr>\n",
       "<tr><td>28598</td><td>338.6177204425694</td><td>22.353838186207664</td><td>8838</td><td>19.782661</td><td>19.72644</td><td>0.0154570285</td><td>0.0154570285</td><td>22.721 .. 19.783</td><td>22.587 .. 19.726</td><td>0.957 .. 0.015</td><td>0.957 .. 0.015</td><td>0.885</td><td>0 .. 0</td><td>0 .. 0</td></tr>\n",
       "<tr><td>28603</td><td>339.29833240285774</td><td>22.354286474528024</td><td>8838</td><td>21.145697</td><td>21.091688</td><td>0.05145716</td><td>0.05145716</td><td>99.0 .. 21.146</td><td>99.0 .. 21.092</td><td>99.0 .. 0.051</td><td>99.0 .. 0.051</td><td>1.0</td><td>0 .. 0</td><td>0 .. 0</td></tr>\n",
       "<tr><td>28605</td><td>338.5309213199021</td><td>22.353570896892435</td><td>8838</td><td>21.419243</td><td>21.364038</td><td>0.06613554</td><td>0.06613554</td><td>21.861 .. 21.419</td><td>21.744 .. 21.364</td><td>0.44 .. 0.066</td><td>0.44 .. 0.066</td><td>0.0</td><td>0 .. 0</td><td>0 .. 0</td></tr>\n",
       "<tr><td>28608</td><td>339.21126004559216</td><td>22.35414326877365</td><td>8838</td><td>20.537357</td><td>20.484093</td><td>0.029936604</td><td>0.029936604</td><td>99.0 .. 20.537</td><td>99.0 .. 20.484</td><td>99.0 .. 0.03</td><td>99.0 .. 0.03</td><td>1.0</td><td>0 .. 0</td><td>0 .. 0</td></tr>\n",
       "<tr><td>28612</td><td>338.98628193195304</td><td>22.35289168420528</td><td>8838</td><td>19.358845</td><td>19.30209</td><td>0.010312969</td><td>0.010312969</td><td>21.263 .. 19.359</td><td>21.12 .. 19.302</td><td>0.251 .. 0.01</td><td>0.251 .. 0.01</td><td>0.0</td><td>0 .. 0</td><td>0 .. 0</td></tr>\n",
       "<tr><td>28616</td><td>339.4259096362328</td><td>22.35324707262885</td><td>8838</td><td>19.582813</td><td>19.524796</td><td>0.013493837</td><td>0.013493837</td><td>22.502 .. 19.583</td><td>22.339 .. 19.525</td><td>0.803 .. 0.013</td><td>0.803 .. 0.013</td><td>0.028</td><td>3 .. 3</td><td>0 .. 0</td></tr>\n",
       "<tr><td>28617</td><td>339.4261592336173</td><td>22.352607006305934</td><td>8838</td><td>19.502926</td><td>19.444899</td><td>0.012624068</td><td>0.012624068</td><td>21.323 .. 19.503</td><td>21.16 .. 19.445</td><td>0.266 .. 0.013</td><td>0.266 .. 0.013</td><td>0.0</td><td>3 .. 3</td><td>0 .. 0</td></tr>\n",
       "<tr><td>28620</td><td>339.2467349385544</td><td>22.3413508580273</td><td>8838</td><td>15.968575</td><td>15.914297</td><td>0.0010250843</td><td>0.0010250843</td><td>21.7 .. 15.969</td><td>21.549 .. 15.914</td><td>0.378 .. 0.001</td><td>0.378 .. 0.001</td><td>0.997</td><td>2 .. 2</td><td>0 .. 0</td></tr>\n",
       "</table></div>"
      ],
      "text/plain": [
       "<Table length=1000>\n",
       "number    alpha_j2000        delta_j2000     ... class_star   flags   mask_flags\n",
       "              deg                deg         ...                                \n",
       "int32       float64            float64       ...  float32   int32[57] int32[57] \n",
       "------ ------------------ ------------------ ... ---------- --------- ----------\n",
       " 25130  338.6335978134234 22.418378321157284 ...        1.0    0 .. 0     0 .. 0\n",
       " 25131  338.6879789986762 22.416937200620136 ...      0.999    0 .. 0     0 .. 0\n",
       " 25136  339.4323904016746 22.418424930737444 ...       0.03    0 .. 0     0 .. 0\n",
       " 25138  339.2173259076366  22.41882242514427 ...      0.962    0 .. 0     0 .. 0\n",
       " 25140 339.34243761597725 22.418529517107938 ...      0.812    0 .. 0     0 .. 0\n",
       " 25143 339.47908613005967 22.417901916935936 ...      0.901    0 .. 0     0 .. 0\n",
       " 25144  339.5001273487729 22.418304206356023 ...      0.904    0 .. 0     0 .. 0\n",
       " 25147   339.096093615288 22.418972597136975 ...      0.976    0 .. 0     0 .. 0\n",
       " 25149 339.24453778223153 22.418611664729866 ...        0.0    0 .. 0     0 .. 0\n",
       "   ...                ...                ... ...        ...       ...        ...\n",
       " 28584  339.4380207377115 22.354249382976406 ...      0.855    0 .. 0     0 .. 0\n",
       " 28598  338.6177204425694 22.353838186207664 ...      0.885    0 .. 0     0 .. 0\n",
       " 28603 339.29833240285774 22.354286474528024 ...        1.0    0 .. 0     0 .. 0\n",
       " 28605  338.5309213199021 22.353570896892435 ...        0.0    0 .. 0     0 .. 0\n",
       " 28608 339.21126004559216  22.35414326877365 ...        1.0    0 .. 0     0 .. 0\n",
       " 28612 338.98628193195304  22.35289168420528 ...        0.0    0 .. 0     0 .. 0\n",
       " 28616  339.4259096362328  22.35324707262885 ...      0.028    3 .. 3     0 .. 0\n",
       " 28617  339.4261592336173 22.352607006305934 ...        0.0    3 .. 3     0 .. 0\n",
       " 28620  339.2467349385544   22.3413508580273 ...      0.997    2 .. 2     0 .. 0"
      ]
     },
     "execution_count": 63,
     "metadata": {},
     "output_type": "execute_result"
    }
   ],
   "source": [
    "main_data"
   ]
  },
  {
   "cell_type": "code",
   "execution_count": null,
   "id": "6dad977d-b107-4122-a4a4-e20b140a240d",
   "metadata": {},
   "outputs": [],
   "source": []
  },
  {
   "cell_type": "code",
   "execution_count": null,
   "id": "6a258674",
   "metadata": {},
   "outputs": [],
   "source": []
  }
 ],
 "metadata": {
  "kernelspec": {
   "display_name": "Python 3 (ipykernel)",
   "language": "python",
   "name": "python3"
  },
  "language_info": {
   "codemirror_mode": {
    "name": "ipython",
    "version": 3
   },
   "file_extension": ".py",
   "mimetype": "text/x-python",
   "name": "python",
   "nbconvert_exporter": "python",
   "pygments_lexer": "ipython3",
   "version": "3.12.9"
  }
 },
 "nbformat": 4,
 "nbformat_minor": 5
}
